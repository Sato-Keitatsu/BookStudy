{
  "nbformat": 4,
  "nbformat_minor": 0,
  "metadata": {
    "colab": {
      "provenance": [],
      "authorship_tag": "ABX9TyN0A3FPkA6uOXSY7mqeaBO0",
      "include_colab_link": true
    },
    "kernelspec": {
      "name": "python3",
      "display_name": "Python 3"
    },
    "language_info": {
      "name": "python"
    }
  },
  "cells": [
    {
      "cell_type": "markdown",
      "metadata": {
        "id": "view-in-github",
        "colab_type": "text"
      },
      "source": [
        "<a href=\"https://colab.research.google.com/github/Sato-Keitatsu/BookStudy/blob/main/01_python%E5%BE%A9%E7%BF%92/01_03_python%E5%85%A5%E9%96%80.ipynb\" target=\"_parent\"><img src=\"https://colab.research.google.com/assets/colab-badge.svg\" alt=\"Open In Colab\"/></a>"
      ]
    },
    {
      "cell_type": "markdown",
      "source": [
        "while文による繰り返し"
      ],
      "metadata": {
        "id": "w65rNa_VTWoV"
      }
    },
    {
      "cell_type": "code",
      "execution_count": null,
      "metadata": {
        "colab": {
          "base_uri": "https://localhost:8080/"
        },
        "id": "H_C_O9QLQebK",
        "outputId": "a0c284e3-eb3c-4b61-b88e-db8ebec6f829"
      },
      "outputs": [
        {
          "output_type": "stream",
          "name": "stdout",
          "text": [
            "finishと入力してください:finish\n",
            "finish と入力されました。\n",
            "終了しました\n"
          ]
        }
      ],
      "source": [
        "text = \"\" # text に初期値として \"\" を設定する\n",
        "\n",
        "while text != \"finish\": # text が \"finish\"ではない間、処理を繰り返す\n",
        "    # 文字を入力する\n",
        "    text = input(\"finishと入力してください:\")  # text に文字を読み込む\n",
        "    print(text, \"と入力されました。\")\n",
        "\n",
        "print(\"終了しました\")"
      ]
    },
    {
      "cell_type": "code",
      "source": [
        "counter = 1 # 現在、何回目かを記録する変数\n",
        "\n",
        "while counter <= 5:  # counterの値が5以下なら繰り返す\n",
        "    text = input(\"数字を入力してください:\")\n",
        "    number = int(text) # 入力した文字列を数値に変換する\n",
        "    print(counter, \"回目:\", number * number) # 入力した数値の2乗を表示する\n",
        "    counter = counter + 1  # counter の値に 1 を加算する\n",
        "    \n",
        "print(\"終了しました\")"
      ],
      "metadata": {
        "colab": {
          "base_uri": "https://localhost:8080/"
        },
        "id": "cBNrPlZbUlQL",
        "outputId": "b0fce80f-f580-47fc-d298-2171893f9228"
      },
      "execution_count": null,
      "outputs": [
        {
          "output_type": "stream",
          "name": "stdout",
          "text": [
            "数字を入力してください:123\n",
            "1 回目: 15129\n",
            "数字を入力してください:55\n",
            "2 回目: 3025\n",
            "数字を入力してください:77\n",
            "3 回目: 5929\n",
            "数字を入力してください:45\n",
            "4 回目: 2025\n",
            "数字を入力してください:23\n",
            "5 回目: 529\n",
            "終了しました\n"
          ]
        }
      ]
    },
    {
      "cell_type": "code",
      "source": [
        "counter = 1 # 現在、何回目かを記録する変数\n",
        "\n",
        "while counter <= 5:  # counterの値が5以下なら繰り返す\n",
        "    text = input(\"数字を入力してください\")\n",
        "\n",
        "    # 入力された文字が '999' なら\n",
        "    if text == '999':\n",
        "        # ループを中断する\n",
        "        print(\"中断します\")\n",
        "        break\n",
        "\n",
        "    number = int(text) # 入力した文字列を数値に変換する\n",
        "    print(counter, \"回目:\", number * number) # 入力した数値の2乗を表示する\n",
        "    counter = counter + 1  # counter の値に 1 を加算する\n",
        "\n",
        "print(\"終了しました\")"
      ],
      "metadata": {
        "colab": {
          "base_uri": "https://localhost:8080/"
        },
        "id": "330c6NgKUmRz",
        "outputId": "e655b1c7-efac-482d-9eb7-fb9dd657560f"
      },
      "execution_count": null,
      "outputs": [
        {
          "output_type": "stream",
          "name": "stdout",
          "text": [
            "数字を入力してください777\n",
            "1 回目: 603729\n",
            "数字を入力してください888\n",
            "2 回目: 788544\n",
            "数字を入力してください999\n",
            "中断します\n",
            "終了しました\n"
          ]
        }
      ]
    },
    {
      "cell_type": "code",
      "source": [
        "counter=1\n",
        "while counter<=5:\n",
        "    text=input(\"暗証番号を入力してください\")\n",
        "\n",
        "    if text==\"1234\":\n",
        "        print(\"正しく入力されました\")\n",
        "        break\n",
        "    \n",
        "    number=int(text)\n",
        "    print(counter,\"回目:\",text,\"と入力されました\")\n",
        "    counter=counter+1\n",
        "print(\"終了しました\")\n"
      ],
      "metadata": {
        "colab": {
          "base_uri": "https://localhost:8080/"
        },
        "id": "hW3C9aVsVHgJ",
        "outputId": "db26dfff-ee08-41f8-833a-ddc85b0762fe"
      },
      "execution_count": null,
      "outputs": [
        {
          "output_type": "stream",
          "name": "stdout",
          "text": [
            "暗証番号を入力してください1234\n",
            "正しく入力されました\n",
            "終了しました\n"
          ]
        }
      ]
    },
    {
      "cell_type": "code",
      "source": [
        "i = 0\n",
        "while i < 10:\n",
        "    i = i + 1\n",
        "\n",
        "    if (i % 2) == 1: # iを2で割った余りが1のとき\n",
        "        continue\n",
        "\n",
        "    print(i, \"is even.\") # 値を出力"
      ],
      "metadata": {
        "colab": {
          "base_uri": "https://localhost:8080/"
        },
        "id": "wMt3LAxgXsOd",
        "outputId": "4e2f4ae4-08ad-4a01-939e-15aa1604a779"
      },
      "execution_count": null,
      "outputs": [
        {
          "output_type": "stream",
          "name": "stdout",
          "text": [
            "2 is even.\n",
            "4 is even.\n",
            "6 is even.\n",
            "8 is even.\n",
            "10 is even.\n"
          ]
        }
      ]
    },
    {
      "cell_type": "code",
      "source": [
        "counter = 1 # 現在、何回目かを記録する変数\n",
        "\n",
        "while counter <= 10:  # counterの値が10以下なら繰り返す\n",
        "    text = input(\"数字を入力してください\")\n",
        "\n",
        "    # 入力された文字が '999' なら\n",
        "    if text == '999':\n",
        "        # ループを中断する\n",
        "        print(\"中断します\")\n",
        "        break\n",
        "\n",
        "    number = int(text) # 入力した文字列を数値に変換する\n",
        "    print(counter, \"回目:\", number * number) # 入力した数値の2乗を表示する\n",
        "    counter = counter + 1  # counter の値に 1 を加算する\n",
        "\n",
        "print(\"終了しました\")"
      ],
      "metadata": {
        "colab": {
          "base_uri": "https://localhost:8080/",
          "height": 263
        },
        "id": "lMkYVdH4cBGT",
        "outputId": "dec515df-df47-4646-a706-eac4378d08a7"
      },
      "execution_count": null,
      "outputs": [
        {
          "name": "stdout",
          "output_type": "stream",
          "text": [
            "数字を入力してください\n"
          ]
        },
        {
          "output_type": "error",
          "ename": "ValueError",
          "evalue": "ignored",
          "traceback": [
            "\u001b[0;31m---------------------------------------------------------------------------\u001b[0m",
            "\u001b[0;31mValueError\u001b[0m                                Traceback (most recent call last)",
            "\u001b[0;32m<ipython-input-8-3453c2088c18>\u001b[0m in \u001b[0;36m<module>\u001b[0;34m()\u001b[0m\n\u001b[1;32m     10\u001b[0m         \u001b[0;32mbreak\u001b[0m\u001b[0;34m\u001b[0m\u001b[0;34m\u001b[0m\u001b[0m\n\u001b[1;32m     11\u001b[0m \u001b[0;34m\u001b[0m\u001b[0m\n\u001b[0;32m---> 12\u001b[0;31m     \u001b[0mnumber\u001b[0m \u001b[0;34m=\u001b[0m \u001b[0mint\u001b[0m\u001b[0;34m(\u001b[0m\u001b[0mtext\u001b[0m\u001b[0;34m)\u001b[0m \u001b[0;31m# 入力した文字列を数値に変換する\u001b[0m\u001b[0;34m\u001b[0m\u001b[0;34m\u001b[0m\u001b[0m\n\u001b[0m\u001b[1;32m     13\u001b[0m     \u001b[0mprint\u001b[0m\u001b[0;34m(\u001b[0m\u001b[0mcounter\u001b[0m\u001b[0;34m,\u001b[0m \u001b[0;34m\"回目:\"\u001b[0m\u001b[0;34m,\u001b[0m \u001b[0mnumber\u001b[0m \u001b[0;34m*\u001b[0m \u001b[0mnumber\u001b[0m\u001b[0;34m)\u001b[0m \u001b[0;31m# 入力した数値の2乗を表示する\u001b[0m\u001b[0;34m\u001b[0m\u001b[0;34m\u001b[0m\u001b[0m\n\u001b[1;32m     14\u001b[0m     \u001b[0mcounter\u001b[0m \u001b[0;34m=\u001b[0m \u001b[0mcounter\u001b[0m \u001b[0;34m+\u001b[0m \u001b[0;36m1\u001b[0m  \u001b[0;31m# counter の値に 1 を加算する\u001b[0m\u001b[0;34m\u001b[0m\u001b[0;34m\u001b[0m\u001b[0m\n",
            "\u001b[0;31mValueError\u001b[0m: invalid literal for int() with base 10: ''"
          ]
        }
      ]
    },
    {
      "cell_type": "code",
      "source": [
        "counter = 1 # 現在、何回目かを記録する変数\n",
        "\n",
        "while counter <= 10:  # counterの値が10以下なら繰り返す\n",
        "    text = input(\"数字を入力してください\")\n",
        "    \n",
        "    # if 入力された文字が ''なら\n",
        "    if text == '':\n",
        "        print(\"入力が無効です\")\n",
        "        # ループの先頭に戻る\n",
        "        continue\n",
        "\n",
        "    # 入力された文字が '999' なら\n",
        "    if text == '999':\n",
        "        # ループを中断する\n",
        "        print(\"中断します\")\n",
        "        break\n",
        "\n",
        "    number = int(text) # 入力した文字列を数値に変換する\n",
        "    print(counter, \"回目:\", number * number) # 入力した数値の2乗を表示する\n",
        "    counter = counter + 1  # counter の値に 1 を加算する\n",
        "\n",
        "print(\"終了しました\")"
      ],
      "metadata": {
        "colab": {
          "base_uri": "https://localhost:8080/"
        },
        "id": "BBi8ljhgcmhu",
        "outputId": "a732d0b7-f977-4f17-d721-b85e1e4840a5"
      },
      "execution_count": null,
      "outputs": [
        {
          "output_type": "stream",
          "name": "stdout",
          "text": [
            "数字を入力してください\n",
            "入力が無効です\n",
            "数字を入力してください999\n",
            "中断します\n",
            "終了しました\n"
          ]
        }
      ]
    },
    {
      "cell_type": "code",
      "source": [
        "momo = input(\"ももは何個買いますか？\")  # ももの個数を入力する\n",
        "num_momo = int(momo) # 入力した文字列を、整数値に変換する\n",
        "\n",
        "mikan = input(\"みかんは何個買いますか？\") # みかんの個数を入力する\n",
        "num_mikan = int(mikan) # 入力した文字列を、整数値に変換する\n",
        "\n",
        "total_momo = num_momo * 100\n",
        "total_mikan = num_mikan * 40\n",
        "total = total_momo + total_mikan\n",
        "\n",
        "print(\"もも\", num_momo, \"個と、みかん\", num_mikan, \"個で、\", total, \"円です\")"
      ],
      "metadata": {
        "colab": {
          "base_uri": "https://localhost:8080/"
        },
        "id": "pShWKpDccpj6",
        "outputId": "003827c5-ba48-4070-fae9-40964cd44edc"
      },
      "execution_count": null,
      "outputs": [
        {
          "output_type": "stream",
          "name": "stdout",
          "text": [
            "ももは何個買いますか？10\n",
            "みかんは何個買いますか？10\n",
            "もも 10 個と、みかん 10 個で、 1400 円です\n"
          ]
        }
      ]
    },
    {
      "cell_type": "code",
      "source": [
        "# 関数の定義\n",
        "\n",
        "def fruit_price(number_of_momo, number_of_mikan):\n",
        "    # ももとみかんの合計金額を計算する\n",
        "\n",
        "    total_momo = number_of_momo * 100\n",
        "    total_mikan = number_of_mikan * 40\n",
        "    total = total_momo + total_mikan\n",
        "    return total\n",
        "\n",
        "\n",
        "# もも5個、みかん10個の値段を計算\n",
        "total = fruit_price(5, 10)\n",
        "print(\"もも 5個と、みかん 10個で、\", total, \"円です\")"
      ],
      "metadata": {
        "colab": {
          "base_uri": "https://localhost:8080/"
        },
        "id": "xgYPyHkyc_r8",
        "outputId": "7eda6532-243a-4410-a693-e700db7116ec"
      },
      "execution_count": null,
      "outputs": [
        {
          "output_type": "stream",
          "name": "stdout",
          "text": [
            "もも 5個と、みかん 10個で、 900 円です\n"
          ]
        }
      ]
    },
    {
      "cell_type": "code",
      "source": [
        "# もも100個、みかん200個の値段を計算\n",
        "total = fruit_price(100, 200)\n",
        "print(\"もも 100個と、みかん 200個で、\", total, \"円です\")"
      ],
      "metadata": {
        "colab": {
          "base_uri": "https://localhost:8080/"
        },
        "id": "DSawUXkYeRnS",
        "outputId": "21f077e4-e971-4c4e-dcf8-0ecff040b8cb"
      },
      "execution_count": null,
      "outputs": [
        {
          "output_type": "stream",
          "name": "stdout",
          "text": [
            "もも 100個と、みかん 200個で、 18000 円です\n"
          ]
        }
      ]
    },
    {
      "cell_type": "code",
      "source": [
        "# global_value はグローバル変数\n",
        "global_value = 100\n",
        "\n",
        "def test_global(arg):\n",
        "    # ローカル変数 arg と グローバル変数 global_value の積\n",
        "    return arg * global_value\n",
        "\n",
        "print(test_global(10)) # 10 * 100"
      ],
      "metadata": {
        "colab": {
          "base_uri": "https://localhost:8080/"
        },
        "id": "XJ0Erc08eWPG",
        "outputId": "bf53fd50-5597-4264-e47e-311f1394c343"
      },
      "execution_count": null,
      "outputs": [
        {
          "output_type": "stream",
          "name": "stdout",
          "text": [
            "1000\n"
          ]
        }
      ]
    },
    {
      "cell_type": "code",
      "source": [
        "def func1(name):\n",
        "    print(\"Hello\", name, \", this is func1.\")\n",
        "\n",
        "def func2():\n",
        "    func1(\"func2\")\n",
        "\n",
        "func2()"
      ],
      "metadata": {
        "colab": {
          "base_uri": "https://localhost:8080/"
        },
        "id": "YfPPVHdZeq5P",
        "outputId": "7b9c8d99-9a55-4149-a0f5-b1bcb70f5648"
      },
      "execution_count": null,
      "outputs": [
        {
          "output_type": "stream",
          "name": "stdout",
          "text": [
            "Hello func2 , this is func1.\n"
          ]
        }
      ]
    },
    {
      "cell_type": "code",
      "source": [
        "import time\n",
        "\n",
        "def print_time():\n",
        "    # モジュールスコープで import した timeモジュールを利用\n",
        "    now = time.asctime()\n",
        "    print(\"It is\", now)\n",
        "    \n",
        "print_time()"
      ],
      "metadata": {
        "colab": {
          "base_uri": "https://localhost:8080/"
        },
        "id": "8SsaX9rmfc87",
        "outputId": "418f6b37-92b0-46e7-b7e5-f71647de804c"
      },
      "execution_count": null,
      "outputs": [
        {
          "output_type": "stream",
          "name": "stdout",
          "text": [
            "It is Mon May  2 06:39:29 2022\n"
          ]
        }
      ]
    },
    {
      "cell_type": "code",
      "source": [
        "def fruit_price(number_of_momo, number_of_mikan, name=\"上\"):\n",
        "    total_momo = number_of_momo * 200\n",
        "    total_mikan = number_of_mikan * 40\n",
        "    total = total_momo + total_mikan\n",
        "\n",
        "    print(name, \"様: もも\", number_of_momo, \"個と、みかん\", number_of_mikan, \"個で、\", total, \"円です\")\n",
        "    "
      ],
      "metadata": {
        "id": "TTasHoUMgIe8"
      },
      "execution_count": null,
      "outputs": []
    },
    {
      "cell_type": "code",
      "source": [
        "fruit_price(10, 20, 'python.jp')"
      ],
      "metadata": {
        "colab": {
          "base_uri": "https://localhost:8080/"
        },
        "id": "xJaT1lOTgWNt",
        "outputId": "e4a5ed71-8a97-4dde-9a91-223ed62f5e16"
      },
      "execution_count": null,
      "outputs": [
        {
          "output_type": "stream",
          "name": "stdout",
          "text": [
            "python.jp 様: もも 10 個と、みかん 20 個で、 2800 円です\n"
          ]
        }
      ]
    },
    {
      "cell_type": "code",
      "source": [
        "fruit_price(50, 60)"
      ],
      "metadata": {
        "colab": {
          "base_uri": "https://localhost:8080/"
        },
        "id": "s2HUw1TlgZnf",
        "outputId": "881e47a7-5b3a-4246-9a9b-cb7884e744f1"
      },
      "execution_count": null,
      "outputs": [
        {
          "output_type": "stream",
          "name": "stdout",
          "text": [
            "上 様: もも 50 個と、みかん 60 個で、 12400 円です\n"
          ]
        }
      ]
    },
    {
      "cell_type": "code",
      "source": [
        "stations = [\"東京\", \"品川\", \"新横浜\", \"小田原\", \"熱海\"]\n",
        "print(stations)"
      ],
      "metadata": {
        "colab": {
          "base_uri": "https://localhost:8080/"
        },
        "id": "A6IEiXY2gtQ7",
        "outputId": "74d525cf-acbf-4697-e67a-e79d4c672f7a"
      },
      "execution_count": null,
      "outputs": [
        {
          "output_type": "stream",
          "name": "stdout",
          "text": [
            "['東京', '品川', '新横浜', '小田原', '熱海']\n"
          ]
        }
      ]
    },
    {
      "cell_type": "code",
      "source": [
        "cases = [100, 125, 110, 135, 93, 95, 93]\n",
        "print(cases)"
      ],
      "metadata": {
        "colab": {
          "base_uri": "https://localhost:8080/"
        },
        "id": "7c2pw_WPhqqT",
        "outputId": "a146c4b7-de98-42fe-f8a8-30c995a1930a"
      },
      "execution_count": null,
      "outputs": [
        {
          "output_type": "stream",
          "name": "stdout",
          "text": [
            "[100, 125, 110, 135, 93, 95, 93]\n"
          ]
        }
      ]
    },
    {
      "cell_type": "code",
      "source": [
        "empty_list = []\n",
        "print(empty_list)"
      ],
      "metadata": {
        "colab": {
          "base_uri": "https://localhost:8080/"
        },
        "id": "-rmxxyIbhvdD",
        "outputId": "e76b4a21-28e7-4d0a-d5eb-d6e7b77aa937"
      },
      "execution_count": null,
      "outputs": [
        {
          "output_type": "stream",
          "name": "stdout",
          "text": [
            "[]\n"
          ]
        }
      ]
    },
    {
      "cell_type": "code",
      "source": [
        "print(stations[0])"
      ],
      "metadata": {
        "colab": {
          "base_uri": "https://localhost:8080/"
        },
        "id": "YW41d3S9h3bj",
        "outputId": "6876b2a1-f0b8-42d5-ce1d-e3f3d44ebb90"
      },
      "execution_count": null,
      "outputs": [
        {
          "output_type": "stream",
          "name": "stdout",
          "text": [
            "東京\n"
          ]
        }
      ]
    },
    {
      "cell_type": "code",
      "source": [
        "print(stations[0], stations[1], stations[2], stations[3], stations[4])"
      ],
      "metadata": {
        "colab": {
          "base_uri": "https://localhost:8080/"
        },
        "id": "23K6BLvsiGiL",
        "outputId": "a9b4b2e7-c9c7-437e-897e-8be0e3a4d19b"
      },
      "execution_count": null,
      "outputs": [
        {
          "output_type": "stream",
          "name": "stdout",
          "text": [
            "東京 品川 新横浜 小田原 熱海\n"
          ]
        }
      ]
    },
    {
      "cell_type": "code",
      "source": [
        "stations[5]"
      ],
      "metadata": {
        "colab": {
          "base_uri": "https://localhost:8080/",
          "height": 173
        },
        "id": "8Biia_kgijy4",
        "outputId": "5f2d2b07-d506-4680-8342-635625134d5f"
      },
      "execution_count": null,
      "outputs": [
        {
          "output_type": "error",
          "ename": "IndexError",
          "evalue": "ignored",
          "traceback": [
            "\u001b[0;31m---------------------------------------------------------------------------\u001b[0m",
            "\u001b[0;31mIndexError\u001b[0m                                Traceback (most recent call last)",
            "\u001b[0;32m<ipython-input-25-f387e245cf44>\u001b[0m in \u001b[0;36m<module>\u001b[0;34m()\u001b[0m\n\u001b[0;32m----> 1\u001b[0;31m \u001b[0mstations\u001b[0m\u001b[0;34m[\u001b[0m\u001b[0;36m5\u001b[0m\u001b[0;34m]\u001b[0m\u001b[0;34m\u001b[0m\u001b[0;34m\u001b[0m\u001b[0m\n\u001b[0m",
            "\u001b[0;31mIndexError\u001b[0m: list index out of range"
          ]
        }
      ]
    },
    {
      "cell_type": "code",
      "source": [
        "cases = [100, 125, 110, 135, 93, 95, 93]\n",
        "\n",
        "total = cases[0] + cases[1] + cases[2] # ７日前から５日前までの感染者数の合計を求める\n",
        "print(total)"
      ],
      "metadata": {
        "colab": {
          "base_uri": "https://localhost:8080/"
        },
        "id": "UHagF653imtk",
        "outputId": "70ee11bf-9713-4d95-97f2-5f208eec5368"
      },
      "execution_count": null,
      "outputs": [
        {
          "output_type": "stream",
          "name": "stdout",
          "text": [
            "335\n"
          ]
        }
      ]
    },
    {
      "cell_type": "code",
      "source": [
        "values = ['A', 'B', 'C']\n",
        "print(\"修正前:\", values)\n",
        "\n",
        "values.insert(0, 999)\n",
        "print(\"修正後:\", values)"
      ],
      "metadata": {
        "colab": {
          "base_uri": "https://localhost:8080/"
        },
        "id": "cU0SmmBtipRH",
        "outputId": "9ede644f-8d4d-4fc5-bcbc-2b861ca362ea"
      },
      "execution_count": null,
      "outputs": [
        {
          "output_type": "stream",
          "name": "stdout",
          "text": [
            "修正前: ['A', 'B', 'C']\n",
            "修正後: [999, 'A', 'B', 'C']\n"
          ]
        }
      ]
    },
    {
      "cell_type": "code",
      "source": [
        "values = ['A', 'B', 'C']\n",
        "print(\"修正前:\", values)\n",
        "\n",
        "values.insert(3, 999)\n",
        "print(\"修正後:\", values)"
      ],
      "metadata": {
        "colab": {
          "base_uri": "https://localhost:8080/"
        },
        "id": "ERb1EUY_jA5F",
        "outputId": "9f44cb23-7e61-4562-d2f3-383e4c6fffbe"
      },
      "execution_count": null,
      "outputs": [
        {
          "output_type": "stream",
          "name": "stdout",
          "text": [
            "修正前: ['A', 'B', 'C']\n",
            "修正後: ['A', 'B', 'C', 999]\n"
          ]
        }
      ]
    },
    {
      "cell_type": "code",
      "source": [
        "values = ['A', 'B', 'C']\n",
        "print(\"修正前:\", values)\n",
        "\n",
        "values[1] = 'abc'\n",
        "print(\"修正後:\", values)"
      ],
      "metadata": {
        "colab": {
          "base_uri": "https://localhost:8080/"
        },
        "id": "_QBS3VUpjBeY",
        "outputId": "efd49a19-8340-413f-b4fc-15dd5b94396c"
      },
      "execution_count": null,
      "outputs": [
        {
          "output_type": "stream",
          "name": "stdout",
          "text": [
            "修正前: ['A', 'B', 'C']\n",
            "修正後: ['A', 'abc', 'C']\n"
          ]
        }
      ]
    },
    {
      "cell_type": "code",
      "source": [
        "values = ['A', 'B', 'C', 'D']\n",
        "print(\"修正前:\", values)\n",
        "\n",
        "del values[1]\n",
        "print(\"修正後:\", values)"
      ],
      "metadata": {
        "colab": {
          "base_uri": "https://localhost:8080/"
        },
        "id": "w2Ai-E8BjVL-",
        "outputId": "0cfccdcc-7b8e-4492-cf90-69f237542a25"
      },
      "execution_count": null,
      "outputs": [
        {
          "output_type": "stream",
          "name": "stdout",
          "text": [
            "修正前: ['A', 'B', 'C', 'D']\n",
            "修正後: ['A', 'C', 'D']\n"
          ]
        }
      ]
    },
    {
      "cell_type": "code",
      "source": [
        "cases = [100, 125, 110, 135, 93, 95, 93]\n",
        "print(cases)"
      ],
      "metadata": {
        "colab": {
          "base_uri": "https://localhost:8080/"
        },
        "id": "bLu_GorqjeR5",
        "outputId": "14a4921f-1dbb-44ed-c103-a5e5e7efa58c"
      },
      "execution_count": null,
      "outputs": [
        {
          "output_type": "stream",
          "name": "stdout",
          "text": [
            "[100, 125, 110, 135, 93, 95, 93]\n"
          ]
        }
      ]
    },
    {
      "cell_type": "code",
      "source": [
        "cases = [100, 125, 110, 135, 93, 95, 93]\n",
        "\n",
        "index = 0 # インデックス値の初期値 0 を設定\n",
        "total = 0 # 合計感染者数の初期値 0 を設定\n",
        "\n",
        "while index < 7: # インデックス値 < 感染者数リストの要素数の間、ループを繰り返す\n",
        "    cases_of_day = cases[index]\n",
        "    total = total + cases_of_day # totalに、cases[index]を加算\n",
        "    index = index + 1 # index に 1 を加算\n",
        "    \n",
        "print(\"合計感染者数は:\", total)"
      ],
      "metadata": {
        "colab": {
          "base_uri": "https://localhost:8080/"
        },
        "id": "rZF95bM-juhL",
        "outputId": "5a401762-b334-4a93-e333-ed54f7d12a00"
      },
      "execution_count": null,
      "outputs": [
        {
          "output_type": "stream",
          "name": "stdout",
          "text": [
            "合計感染者数は: 751\n"
          ]
        }
      ]
    },
    {
      "cell_type": "code",
      "source": [
        "cases = [100, 125, 110, 135, 93, 95, 93]\n",
        "\n",
        "index = 0 # インデックス値の初期値 0 を設定\n",
        "len_cases = len(cases)\n",
        "total = 0 # 合計感染者数の初期値 0 を設定\n",
        "\n",
        "while index < len_cases: # インデックス値 < len_cases の間、ループを繰り返す\n",
        "    cases_of_day = cases[index]\n",
        "    total = total + cases_of_day # totalに、cases[index]を加算\n",
        "    index = index + 1 # index に 1 を加算\n",
        "    \n",
        "print(\"合計感染者数は:\", total)"
      ],
      "metadata": {
        "colab": {
          "base_uri": "https://localhost:8080/"
        },
        "id": "woTzcQkyjzeH",
        "outputId": "8b7e86e0-b027-4dca-b1ff-7b4870594bdd"
      },
      "execution_count": null,
      "outputs": [
        {
          "output_type": "stream",
          "name": "stdout",
          "text": [
            "合計感染者数は: 751\n"
          ]
        }
      ]
    },
    {
      "cell_type": "code",
      "source": [
        "values = [1,2,3,4]  # 要素数4のリスト\n",
        "print(len(values))"
      ],
      "metadata": {
        "colab": {
          "base_uri": "https://localhost:8080/"
        },
        "id": "VKcghHZ5kY2t",
        "outputId": "5eb1e2a6-bbf6-490b-c590-45833e5e3907"
      },
      "execution_count": null,
      "outputs": [
        {
          "output_type": "stream",
          "name": "stdout",
          "text": [
            "4\n"
          ]
        }
      ]
    },
    {
      "cell_type": "code",
      "source": [
        "values = [1, 2, 3, 4]\n",
        "\n",
        "for value in values:\n",
        "    print(\"valueは\", value, \"value*valueは\", value*value)"
      ],
      "metadata": {
        "colab": {
          "base_uri": "https://localhost:8080/"
        },
        "id": "wq0B7ssjkcW-",
        "outputId": "27a27fd0-53c4-4e4d-bc84-06b370f598f8"
      },
      "execution_count": null,
      "outputs": [
        {
          "output_type": "stream",
          "name": "stdout",
          "text": [
            "valueは 1 value*valueは 1\n",
            "valueは 2 value*valueは 4\n",
            "valueは 3 value*valueは 9\n",
            "valueは 4 value*valueは 16\n"
          ]
        }
      ]
    },
    {
      "cell_type": "code",
      "source": [
        "cases = [100, 125, 110, 135, 93, 95, 93]\n",
        "\n",
        "total = 0 # 合計感染者数の初期値 0 を設定\n",
        "for cases_of_day in cases:\n",
        "    total = total + cases_of_day\n",
        "\n",
        "print(\"合計感染者数は:\", total)"
      ],
      "metadata": {
        "colab": {
          "base_uri": "https://localhost:8080/"
        },
        "id": "IKFa2hSSkvJ7",
        "outputId": "3644ad91-79e0-4633-dd27-f597ed114c63"
      },
      "execution_count": null,
      "outputs": [
        {
          "output_type": "stream",
          "name": "stdout",
          "text": [
            "合計感染者数は: 751\n"
          ]
        }
      ]
    },
    {
      "cell_type": "code",
      "source": [
        "names=[1,2,3,4,5,7,6,8,9,10]\n",
        "names.insert(5,6)\n",
        "del names[7]\n",
        "print(names)"
      ],
      "metadata": {
        "colab": {
          "base_uri": "https://localhost:8080/"
        },
        "id": "tED5StVMlB65",
        "outputId": "e2906212-1825-48ae-d01f-01d9d11a1781"
      },
      "execution_count": null,
      "outputs": [
        {
          "output_type": "stream",
          "name": "stdout",
          "text": [
            "[1, 2, 3, 4, 5, 6, 7, 8, 9, 10]\n"
          ]
        }
      ]
    },
    {
      "cell_type": "code",
      "source": [],
      "metadata": {
        "id": "Kw63Ba51mFYM"
      },
      "execution_count": null,
      "outputs": []
    }
  ]
}